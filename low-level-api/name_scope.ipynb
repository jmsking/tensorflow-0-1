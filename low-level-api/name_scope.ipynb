{
 "cells": [
  {
   "cell_type": "code",
   "execution_count": 1,
   "metadata": {},
   "outputs": [],
   "source": [
    "from __future__ import absolute_import\n",
    "from __future__ import division\n",
    "from __future__ import print_function\n",
    "import tensorflow as tf"
   ]
  },
  {
   "cell_type": "code",
   "execution_count": 2,
   "metadata": {},
   "outputs": [
    {
     "name": "stdout",
     "output_type": "stream",
     "text": [
      "scope_1/scope_2\n"
     ]
    }
   ],
   "source": [
    "g = tf.get_default_graph()\n",
    "with tf.name_scope('scope_1'):\n",
    "    with tf.name_scope('scope_2'):\n",
    "        print(g.get_name_scope())"
   ]
  },
  {
   "cell_type": "code",
   "execution_count": 3,
   "metadata": {},
   "outputs": [
    {
     "name": "stdout",
     "output_type": "stream",
     "text": [
      "scope_3\n"
     ]
    }
   ],
   "source": [
    "with tf.name_scope('scope_3') as scope3:\n",
    "    with tf.name_scope('scope_4') as scope4:\n",
    "        with tf.name_scope(scope3):\n",
    "            print(g.get_name_scope())"
   ]
  },
  {
   "cell_type": "code",
   "execution_count": 4,
   "metadata": {},
   "outputs": [
    {
     "name": "stdout",
     "output_type": "stream",
     "text": [
      "scope_6\n"
     ]
    }
   ],
   "source": [
    "with tf.name_scope('scope_5') as scope5:\n",
    "    with tf.name_scope(None):\n",
    "        with tf.name_scope('scope_6') as scope6:\n",
    "            print(g.get_name_scope())"
   ]
  },
  {
   "cell_type": "code",
   "execution_count": 5,
   "metadata": {},
   "outputs": [
    {
     "name": "stdout",
     "output_type": "stream",
     "text": [
      "scope_6_1\n"
     ]
    }
   ],
   "source": [
    "with tf.name_scope('scope_6'):\n",
    "    print(g.get_name_scope())"
   ]
  },
  {
   "cell_type": "code",
   "execution_count": null,
   "metadata": {},
   "outputs": [],
   "source": []
  }
 ],
 "metadata": {
  "kernelspec": {
   "display_name": "Python 3",
   "language": "python",
   "name": "python3"
  },
  "language_info": {
   "codemirror_mode": {
    "name": "ipython",
    "version": 3
   },
   "file_extension": ".py",
   "mimetype": "text/x-python",
   "name": "python",
   "nbconvert_exporter": "python",
   "pygments_lexer": "ipython3",
   "version": "3.7.1"
  }
 },
 "nbformat": 4,
 "nbformat_minor": 2
}
