{
 "cells": [
  {
   "cell_type": "code",
   "execution_count": 8,
   "metadata": {},
   "outputs": [],
   "source": [
    "from __future__ import absolute_import\n",
    "from __future__ import division\n",
    "from __future__ import print_function\n",
    "import tensorflow as tf\n",
    "import numpy as np"
   ]
  },
  {
   "cell_type": "code",
   "execution_count": 2,
   "metadata": {},
   "outputs": [
    {
     "name": "stdout",
     "output_type": "stream",
     "text": [
      "WARNING:tensorflow:From D:\\soft\\anaconda\\lib\\site-packages\\tensorflow\\python\\framework\\op_def_library.py:263: colocate_with (from tensorflow.python.framework.ops) is deprecated and will be removed in a future version.\n",
      "Instructions for updating:\n",
      "Colocations handled automatically by placer.\n"
     ]
    }
   ],
   "source": [
    "x = tf.placeholder(tf.float32, shape=(2,3))\n",
    "y = tf.placeholder(tf.float32, shape=(2,1))\n",
    "linear_model = tf.layers.Dense(units=1)\n",
    "_y = linear_model(x)"
   ]
  },
  {
   "cell_type": "code",
   "execution_count": 6,
   "metadata": {},
   "outputs": [
    {
     "name": "stdout",
     "output_type": "stream",
     "text": [
      "WARNING:tensorflow:From D:\\soft\\anaconda\\lib\\site-packages\\tensorflow\\python\\ops\\losses\\losses_impl.py:667: to_float (from tensorflow.python.ops.math_ops) is deprecated and will be removed in a future version.\n",
      "Instructions for updating:\n",
      "Use tf.cast instead.\n"
     ]
    }
   ],
   "source": [
    "loss = tf.losses.mean_squared_error(labels=y, predictions=_y)\n",
    "train_op = tf.train.GradientDescentOptimizer(learning_rate=0.01).minimize(loss)"
   ]
  },
  {
   "cell_type": "code",
   "execution_count": 11,
   "metadata": {},
   "outputs": [
    {
     "name": "stdout",
     "output_type": "stream",
     "text": [
      "[[0.54751019 0.96372371 0.72836711]\n",
      " [0.2083336  0.49237958 0.08091608]]\n",
      "[[0.1584483 ]\n",
      " [0.73940728]]\n"
     ]
    }
   ],
   "source": [
    "data_x = np.random.rand(2,3)\n",
    "data_y = np.random.rand(2,1)\n",
    "print(data_x)\n",
    "print(data_y)"
   ]
  },
  {
   "cell_type": "code",
   "execution_count": 19,
   "metadata": {},
   "outputs": [
    {
     "name": "stdout",
     "output_type": "stream",
     "text": [
      "epoch: 100 - cost: 0.04361044\n",
      "epoch: 200 - cost: 0.027926091\n",
      "epoch: 300 - cost: 0.017891776\n",
      "epoch: 400 - cost: 0.011462932\n",
      "epoch: 500 - cost: 0.0073441286\n",
      "epoch: 600 - cost: 0.004705279\n",
      "epoch: 700 - cost: 0.003014581\n",
      "epoch: 800 - cost: 0.0019313847\n",
      "epoch: 900 - cost: 0.0012373991\n",
      "epoch: 1000 - cost: 0.0007927863\n",
      "[[0.18008888]\n",
      " [0.70608747]]\n"
     ]
    }
   ],
   "source": [
    "sess = tf.Session()\n",
    "init = tf.global_variables_initializer()\n",
    "sess.run(init)\n",
    "for epoch in range(1000):\n",
    "    _, cost = sess.run([train_op, loss], feed_dict={x:data_x, y:data_y})\n",
    "    if (epoch+1) % 100 == 0:\n",
    "        print('epoch: %s - cost: %s' %(epoch+1, cost))\n",
    "print(sess.run(_y, feed_dict={x:data_x}))"
   ]
  },
  {
   "cell_type": "code",
   "execution_count": 26,
   "metadata": {},
   "outputs": [],
   "source": [
    "g = tf.get_default_graph()"
   ]
  },
  {
   "cell_type": "code",
   "execution_count": 30,
   "metadata": {},
   "outputs": [
    {
     "data": {
      "text/plain": [
       "'variables'"
      ]
     },
     "execution_count": 30,
     "metadata": {},
     "output_type": "execute_result"
    }
   ],
   "source": [
    "tf.GraphKeys.GLOBAL_VARIABLES"
   ]
  },
  {
   "cell_type": "code",
   "execution_count": 31,
   "metadata": {},
   "outputs": [
    {
     "data": {
      "text/plain": [
       "False"
      ]
     },
     "execution_count": 31,
     "metadata": {},
     "output_type": "execute_result"
    }
   ],
   "source": [
    "g.building_function"
   ]
  },
  {
   "cell_type": "code",
   "execution_count": 32,
   "metadata": {},
   "outputs": [
    {
     "data": {
      "text/plain": [
       "[('__varscope',),\n",
       " ('__variable_store',),\n",
       " 'trainable_variables',\n",
       " 'variables',\n",
       " 'update_ops',\n",
       " 'losses',\n",
       " 'train_op']"
      ]
     },
     "execution_count": 32,
     "metadata": {},
     "output_type": "execute_result"
    }
   ],
   "source": [
    "g.collections"
   ]
  },
  {
   "cell_type": "code",
   "execution_count": 33,
   "metadata": {},
   "outputs": [
    {
     "data": {
      "text/plain": [
       "123"
      ]
     },
     "execution_count": 33,
     "metadata": {},
     "output_type": "execute_result"
    }
   ],
   "source": [
    "g.version"
   ]
  },
  {
   "cell_type": "code",
   "execution_count": 37,
   "metadata": {},
   "outputs": [
    {
     "name": "stdout",
     "output_type": "stream",
     "text": [
      "scope3\n"
     ]
    }
   ],
   "source": [
    "with tf.name_scope('scope1'):\n",
    "    with tf.name_scope(None):\n",
    "        with tf.name_scope('scope3'):\n",
    "            print(tf.get_default_graph().get_name_scope())"
   ]
  },
  {
   "cell_type": "code",
   "execution_count": 50,
   "metadata": {},
   "outputs": [
    {
     "name": "stdout",
     "output_type": "stream",
     "text": [
      "True\n"
     ]
    }
   ],
   "source": [
    "a = tf.constant(1, shape=[2,3], dtype=tf.float32)\n",
    "print(cons.graph == tf.get_default_graph())"
   ]
  },
  {
   "cell_type": "code",
   "execution_count": 51,
   "metadata": {},
   "outputs": [
    {
     "name": "stdout",
     "output_type": "stream",
     "text": [
      "False\n",
      "True\n"
     ]
    }
   ],
   "source": [
    "g0 = tf.Graph()\n",
    "with g0.as_default():\n",
    "    b = tf.constant(1, shape=[2,3], dtype=tf.float32)\n",
    "print(b.graph == tf.get_default_graph())\n",
    "print(b.graph == g0)"
   ]
  },
  {
   "cell_type": "code",
   "execution_count": 53,
   "metadata": {},
   "outputs": [
    {
     "name": "stdout",
     "output_type": "stream",
     "text": [
      "False\n",
      "False\n",
      "True\n"
     ]
    }
   ],
   "source": [
    "with tf.Graph().as_default() as g1:\n",
    "    c = tf.constant(1, shape=[2,3], dtype=tf.float32)\n",
    "print(c.graph == tf.get_default_graph())\n",
    "print(c.graph == g0)\n",
    "print(c.graph == g1)"
   ]
  },
  {
   "cell_type": "code",
   "execution_count": null,
   "metadata": {},
   "outputs": [],
   "source": []
  }
 ],
 "metadata": {
  "kernelspec": {
   "display_name": "Python 3",
   "language": "python",
   "name": "python3"
  },
  "language_info": {
   "codemirror_mode": {
    "name": "ipython",
    "version": 3
   },
   "file_extension": ".py",
   "mimetype": "text/x-python",
   "name": "python",
   "nbconvert_exporter": "python",
   "pygments_lexer": "ipython3",
   "version": "3.7.1"
  }
 },
 "nbformat": 4,
 "nbformat_minor": 2
}
